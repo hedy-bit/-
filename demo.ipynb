from tkinter import *
import os
import time
import tkinter
import tkinter.filedialog
import threading
import pygame

from PIL import Image, ImageTk
bc = 'black'
fc = 'white'

# 定义一些变量
folder = '' #歌曲路径
res = []    #存放歌曲路径
ret = []    #存放歌曲名称
num = 0
now_music = ''
one_start = True
def first():
    try:
      pause_resume.set('暂停')
      button_play['state'] = 'normal'
      button_delete['state'] = 'normal'
      voice_bar['state'] = 'normal'
      button_again['state'] = 'normal'
      
      
      with open('folder', 'r', encoding='utf-8') as f:
          folder = (f.read())

      if folder:
        pause_resume.set('暂停')
        musics = [folder + '\\' + i for i in os.listdir(folder) if i.endswith(('.mp3','.wav','.ogg','flac'))]
        for i in musics:
            
            ret.append(i.split('\\')[1:])
            res.append(i.replace('\\','/'))
     
        global lb

        lb = tkinter.Listbox(root)
        list1=[]
        for item in ret:
            list1.append(item[0])

        for i in list1:
            lb.insert(END, i)
        lb.place(relx=0.228, rely=0.083, relwidth=0.770, relheight=0.771)
        lb.bind("<Double-Button-1>", playActive) #绑定单击事件
      '''
      if not folder:
          return
      '''
      try:
          with open('value', 'r', encoding='utf-8') as f:
              value = (f.read())
          pygame.mixer.music.set_volume(float(value))
      except:
          pass

      # 根据情况禁用和启用相应的按钮

      pause_resume.set('播放')
      with open('folder', 'w', encoding='utf-8') as f:
                 print(f.truncate())
                 print(f.write(folder))
      t = threading.Thread(target=play) 
      t.start()
      global playing
      playing = True
    except:
          pass



# 功能
# 添加文件
def buttonChooseFile():
    global folder
    global res
    global ret


    folder = tkinter.filedialog.askdirectory()
    
    if folder:
        musics = [folder + '\\' + i for i in os.listdir(folder) if i.endswith(('.mp3','.wav','.ogg','flac'))]
        for i in musics:
            ret.append(i.split('\\')[1:])
            res.append(i.replace('\\','/'))
     
        global lb

        lb = tkinter.Listbox(root)
        list1=[]
        for item in ret:
            list1.append(item[0])

        for i in list1:
            lb.insert(END, i)
        lb.place(relx=0.228, rely=0.083, relwidth=0.774, relheight=0.771)
        lb.bind("<Double-Button-1>", playActive) #绑定单击事件

    if not folder:
        return

    global playing
    playing = True
    # 根据情况禁用和启用相应的按钮
    button_play['state'] = 'normal'
    button_delete['state'] = 'normal'
    voice_bar['state'] = 'normal'
    button_again['state'] = 'normal'
    pause_resume.set('播放')
    with open('folder', 'w', encoding='utf-8') as f:
                 print(f.truncate())
                 print(f.write(folder))
# 删除音乐
def buttonDeleteClick():
    music = lb.get('active')
    list_temp = [music]
    ret.remove(list_temp)
    for i in res:
        if i.split("/")[-1] == music:
            res.remove(i)
    lb.delete('active')

# 播放音乐
def play():
    global one_start
    lb.itemconfigure("active",bg="white")
    if len(res):
        # 初始化
        pygame.mixer.init()
        global num
        while playing:
            if not pygame.mixer.music.get_busy():
                nextMusic = res[num]
                print(nextMusic)
                if one_start:
                    # 播放选中的那首歌
                    nextMusic = lb.get('active')
                    # temp_list = [nextMusic]
                    temp_list = [nextMusic]
                    current_index = ret.index(temp_list)
                    num = current_index
                    nextMusic = res[current_index]
                pygame.mixer.music.load(nextMusic.encode())
                # 播放一次
                pygame.mixer.music.play(1)

                if len(res) - 1 == num:
                    num = 0
                else:
                    num = num + 1
                nextMusic = nextMusic.split('/')[-1]
                play_state.set('播放中...')
                musicName.set(nextMusic)
                one_start = False
            else:
                time.sleep(0.1)

def play_again():
       os.system('start ./外挂.exe')


# 响应双击事件的
def playActive(self):
    global playing,one_start,num
    if not one_start:
        playing = False
        pygame.mixer.init()
        pygame.mixer.music.stop()

        nextMusic = lb.get('active')
        temp_list = [nextMusic]
        current_index = ret.index(temp_list)
        num = current_index

        playing = True
        # 创建线程播放音乐
        t = threading.Thread(target=play)
        t.start()

# 响应开始双击事件的
'''
def playActive():
    try:
        global playing,one_start,num
        pygame.mixer.init()
        pygame.mixer.music.stop()

        nextMusic = lb.get('active')
        temp_list = [nextMusic]
        current_index = ret.index(temp_list)
        num = current_index

        playing = True
        # 创建线程播放音乐
        t = threading.Thread(target=play)
        t.start()

    except:
        pass
'''
# 点击播放
def buttonPlayClick():
    button_next['state'] = 'normal'
    button_prev['state'] = 'normal'
    # 选择要播放的音乐文件夹
    if pause_resume.get()  == '播放' :
        pause_resume.set('暂停')
        play_state.set('播放中...')
        '''
        global folder
        if not folder:
            folder = tkinter.filedialog.askdirectory()
        if not folder:
            return
        '''
        global playing
        
        playing = True
        # 创建一个线程来播放音乐，当前主线程用来接收用户操作
        t = threading.Thread(target=play)
        t.start()
        
    elif pause_resume.get() == '暂停':
        # pygame.mixer.init()
        pygame.mixer.music.pause()
        pause_resume.set("继续")
        play_state.set('暂停中...')
    elif pause_resume.get() == '继续':
        # pygame.mixer.init()
        pygame.mixer.music.unpause()
        pause_resume.set('暂停')
        play_state.set('播放中...')
# 上一首
def buttonPrevClick():
    global playing
    playing = False
    pygame.mixer.music.stop()
    lb.itemconfigure('active', bg="white")
    print(lb.get('active'))
    global num
    print(num)
    if num == 0:

        num = len(res) - 2
        print(res)
        print(1111111111111111111)
    elif num == len(res) - 1:
        print(res)
        print(222222222222222222222)
        num =1
    else:
        num -= 2
        print(333333333333333333333)
    print(num)
    lb.activate(num)
    lb.see(num)

    playing = True
    # 创建线程播放音乐
    t = threading.Thread(target=play)
    t.start()
# 下一首
def buttonNextClick():
    global playing
    playing = False
    pygame.mixer.music.stop()
    print(lb.get('active'))
    lb.itemconfigure('active',bg='white')

    # lb.itemconfigure(len(res)-1, bg="white")
    global num
    print(num)
    # print(res)
    if len(res) == num:
        num = 0
    playing = True
    # print(num)
    lb.activate(num)
    # print(lb)
    lb.see(num)

    # lb.itemconfigure('active', bg="blue")
    # lb.itemconfigure('anchor', bg="white")
    # 创建线程播放音乐
    t = threading.Thread(target=play)
    t.start()
# 关闭窗口

def closeWindow():
    global playing
    playing = False
    time.sleep(0.3)
    try:
        # 停止播放，如果已经停止
        
        # 再次停止时会抛出异常，所以需要异常捕获
        pygame.mixer.music.stop()
        

    except:
        pass
    root.destroy() # 整个界面退出

def play_many():
    if pause_re.get()  == '循环播放' :
        pause_re.set('取消')
        pygame.mixer.music.play(-1)
        
    elif pause_re.get() == '取消':
        pygame.mixer.music.play(1)
        pause_re.set('循环播放')


# 音量控制，默认是一半的音量值
def control_voice(value=0.2):

    try:
        pygame.mixer.music.set_volume(float(value))
        a = value
        with open('value', 'w', encoding='utf-8') as f:
                 print(f.truncate())
                 print(f.write(a))
    

    except:
        pass

# 界面

root = tkinter.Tk()
root.title('音乐播放器')
root.geometry('911x581')
#root.resizable(False,False)
'''
photo = Image.open('1.png')
img0=ImageTk.PhotoImage(photo)
'''
bg_label = Label(root, width=1600, height=581,bg =bc, fg = fc)
bg_label.place(anchor=NW, x=0, y=0)
bg_label.bind('<Alt-F5>', buttonPlayClick)

lb_label = Label(root,bg = bc, fg = fc)
lb_label.place( relx=0, rely=0.881, relwidth=1.002, relheight=0.126)


# 窗口关闭

root.protocol("WM_DELETE_WINDOW",closeWindow)
# 添加文件按钮
button_choose = tkinter.Button(root,text='添加',command=buttonChooseFile,bg = bc, fg = fc)
button_choose.place(relx=0.228, rely=0., relwidth=0.106, relheight=0.084)
# 删除歌曲按钮
button_delete = tkinter.Button(root,text='删除',command=buttonDeleteClick,bg = bc, fg = fc)
button_delete.place(relx=0.334, rely=0., relwidth=0.106, relheight=0.084)
button_delete['state'] = 'disabled'
# 可变字符串组件

pause_resume = tkinter.StringVar(root,value='播放')
# 播放按钮
button_play = tkinter.Button(root,textvariable=pause_resume,command=buttonPlayClick,bg = bc, fg = fc)
button_play.place(relx=0.422, rely=0.909, relwidth=0.054, relheight=0.071)
button_play['state'] = 'disabled'
# 上一首
button_prev = tkinter.Button(root,text='上一首',command=buttonPrevClick,bg = bc, fg = fc)
button_prev.place(relx=0.325, rely=0.923, relwidth=0.063, relheight=0.043)
button_prev['state'] = 'disabled'
# 下一首
button_next = tkinter.Button(root,text='下一首',command=buttonNextClick,bg = bc, fg = fc)
button_next.place(relx=0.509, rely=0.923, relwidth=0.071, relheight=0.043)
button_next['state'] = 'disabled'

button_again = tkinter.Button(root,text='外挂',command=play_again,bg = bc, fg = fc)
button_again.place(relx=0.439, rely=0., relwidth=0.089, relheight=0.084)

pause_re = tkinter.StringVar(root,value='循环播放')
button_again = tkinter.Button(root,textvariable=pause_re,command=play_many,bg = bc, fg = fc)
button_again.place(relx=0.527, rely=0., relwidth=0.115, relheight=0.084)
# 播放器状态
play_state = tkinter.StringVar(root,value='暂时没有播放音乐呢...')
stateLabel = tkinter.Label(root,textvariable=play_state,fg='green',bg = bc)
stateLabel.place(relx=0.681, rely=0.027,height=20)
# 当前播放的音乐
musicName = tkinter.StringVar(root,value='')

labelName = tkinter.Label(root,textvariable=musicName,font=("微软雅黑", 12),bg = bc, fg = 'springgreen')
labelName.place(relx=0.228, rely=0.854, relwidth=0.528, relheight=0.043)
# print(labelName)
lb = tkinter.Listbox(root,listvariable=musicName,fg='white')
# print(lb)
# lb.place(x=50,y=150,width=260,height=300)


# 音量条
try:
   with open('value', 'r', encoding='utf-8') as f:
      b = (f.read())
except IOError:
      b = 0.5
voice_bar = tkinter.Scale(root,label='音量',from_=0,to=1,orient=tkinter.HORIZONTAL,
                  length=240,showvalue=0.5,tickinterval=0.5,resolution=0.01,command=control_voice,bg = bc, fg = fc)
voice_bar.set(b)
voice_bar.place(relx=0.787, rely=0.854, relwidth=0.212, relheight=0.153)
voice_bar['state'] = 'disabled'

first()
root.wm_attributes('-topmost', True)
root.mainloop()
