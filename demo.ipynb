# coding:utf-8

# from PyQt5 import QtCore,QtGui,QtWidgets
import sys
import re
import pygame

from mutagen import File
import time
import os, math
from PIL import Image, ImageDraw, ImageFilter
# import requests
# import jsonpath
# from mutagen.mp3 import MP3
# from mutagen import File
# from urllib.request import urlretrieve
from PyQt5 import QtCore, QtGui, QtWidgets
from PyQt5.QtWidgets import QFileDialog, QMessageBox, QListWidget, QLabel, QListWidgetItem, QApplication, QWidget
from PyQt5.QtCore import QTimer, QDateTime, Qt
from PyQt5.QtGui import QIcon, QPixmap, QColor, QPainter, QPixmap
from PyQt5 import QtMultimedia, QtWidgets, QtCore
from PyQt5.QtGui import QFont, QCursor
import qtawesome
import threading
import random
import requests

play = 'shun'
stop = False
SongPath = []
filew = 1
num = 0
voice = 0.5
pause = False
asas = 1
big = False


class MainUi(QtWidgets.QMainWindow):
    def __init__(self):
        super().__init__()
        self.init_ui()
        self.start()
        try:
            icon_path = os.path.join(os.path.dirname(__file__), './1.ico')

            icon = QIcon()
            icon.addPixmap(QPixmap(icon_path))  # ���ǶԵġ�
            self.setWindowIcon(icon)
        except:
            pass
        t1 = threading.Thread(target=self.action)
        t1.setDaemon(True)
        t1.start()

    def init_ui(self):
        self.setFixedSize(960, 700)
        self.main_widget = QtWidgets.QWidget()  # ��������������
        self.main_layout = QtWidgets.QGridLayout()  # ���������������񲼾�
        self.main_widget.setLayout(self.main_layout)  # ���ô�������������Ϊ���񲼾�

        self.close_widget = QtWidgets.QWidget()  # �����رղಿ��
        self.close_widget.setObjectName('close_widget')
        self.close_layout = QtWidgets.QGridLayout()  # ������ಿ�������񲼾ֲ�
        self.close_widget.setLayout(self.close_layout)  # ������ಿ������Ϊ����

        self.left_widget = QtWidgets.QWidget()  # ������߲ಿ��
        self.left_widget.setObjectName('left_widget')
        self.left_layout = QtWidgets.QGridLayout()  # ������ಿ�������񲼾ֲ�
        self.left_widget.setLayout(self.left_layout)  # ������ಿ������Ϊ����

        self.right_widget = QtWidgets.QWidget()  # �����Ҳಿ��
        self.right_widget.setObjectName('right_widget')
        self.right_layout = QtWidgets.QGridLayout()
        self.right_widget.setLayout(self.right_layout)  # �����Ҳಿ������Ϊ����

        self.down_widget = QtWidgets.QWidget()  # �������沿��
        self.down_widget.setObjectName('down_widget')
        self.down_layout = QtWidgets.QGridLayout()
        self.down_widget.setLayout(self.down_layout)  # �����²ಿ������Ϊ����

        self.label = QLabel(self)
        self.label.setText("first line")
        self.label.setStyleSheet("color:white")
        self.label.setMaximumSize(310, 20)

        self.main_layout.addWidget(self.right_widget, 0, 20, 90, 90)  # 22�Ҳಿ���ڵ�0�е�3�У�ռ8��9��
        self.down_layout.addWidget(self.label, 1, 0, 1, 1)
        self.main_layout.addWidget(self.left_widget, 0, 0, 90, 20)
        self.main_layout.addWidget(self.down_widget, 100, 0, 10, 110)
        self.main_layout.addWidget(self.close_widget, 0, 107, 1, 3)  # ��ಿ���ڵ�0�е�0�У�ռ1��3��
        self.setCentralWidget(self.main_widget)  # ���ô���������


        self.listwidget = QListWidget(self)
        self.listwidget.doubleClicked.connect(lambda: self.change_func(self.listwidget))
        self.right_layout.addWidget(self.listwidget, 3, 0, 100, 90)
        self.listwidget.setStyleSheet('''background-color:transparent''')

        self.left_close = QtWidgets.QPushButton("")  # �رհ�ť
        self.left_close.clicked.connect(self.close)
        self.left_visit = QtWidgets.QPushButton("")  # �հװ�ť
        self.left_visit.clicked.connect(self.big)
        self.left_mini = QtWidgets.QPushButton("")  # ��С����ť
        self.left_mini.clicked.connect(self.mini)
        self.close_layout.addWidget(self.left_mini, 0, 0, 1, 1)
        self.close_layout.addWidget(self.left_close, 0, 2, 1, 1)
        self.close_layout.addWidget(self.left_visit, 0, 1, 1, 1)
        self.left_close.setFixedSize(15, 15)  # ���ùرհ�ť�Ĵ�С
        self.left_visit.setFixedSize(15, 15)  # ���ð�ť��С
        self.left_mini.setFixedSize(15, 15)  # ������С����ť��С
        self.left_close.setStyleSheet(
            '''QPushButton{background:#F76677;border-radius:5px;}QPushButton:hover{background:red;}''')
        self.left_visit.setStyleSheet(
            '''QPushButton{background:#F7D674;border-radius:5px;}QPushButton:hover{background:yellow;}''')
        self.left_mini.setStyleSheet(
            '''QPushButton{background:#6DDF6D;border-radius:5px;}QPushButton:hover{background:green;}''')

        self.left_add = QtWidgets.QPushButton("���")  # ��Ӱ�ť
        self.left_layout.addWidget(self.left_add, 0, 0, 2, 2)
        self.left_add.setStyleSheet(
            '''QPushButton{background:#F76677;border-radius:5px;}QPushButton:hover{background:red;}''')
        self.left_add.clicked.connect(self.add)



        self.label2 = QLabel(self)
        self.label2.setText("��ǰΪ˳�򲥷�")
        self.label2.setStyleSheet("color:#6DDF6D")
        self.left_layout.addWidget(self.label2, 4, 0, 2, 2)

        self.label3 = QLabel(self)
        self.label3.setText("")
        self.label3.setStyleSheet("color:white")
        self.down_layout.addWidget(self.label3, 1, 3, 1, 1)

        self.label7 = QLabel(self)
        self.label7.setText("")
        self.label7.setStyleSheet("color:white")


        '''
        self.label1 = QLabel(self)
        self.label1.setText("first line")
        self.label1.setStyleSheet("color:white")
        '''

        self.label5 = QLabel(self)
        #self.label5.setScaledContents(True)
        pix_img = QtGui.QPixmap('./2.png')
        pix = pix_img.scaled(300, 300, QtCore.Qt.KeepAspectRatio)
        self.label5.setPixmap(pix)
        #self.label5.setMaximumSize(1,1)
        self.left_layout.addWidget(self.label5,2,0,2,2)

        self.label6 = QLabel(self)
        self.label6.setText("")
        self.label6.setStyleSheet("color:#6DDF6D")
        self.left_layout.addWidget(self.label6, 2, 0, 2, 2)



        self.right_process_bar = QtWidgets.QProgressBar()  # ���Ž��Ȳ���
        self.right_process_bar.setValue(49)
        self.right_process_bar.setFixedHeight(3)  # ���ý������߶�
        self.right_process_bar.setTextVisible(False)  # ����ʾ����������

        self.right_playconsole_widget = QtWidgets.QWidget()  # ���ſ��Ʋ���
        self.right_playconsole_layout = QtWidgets.QGridLayout()  # ���ſ��Ʋ������񲼾ֲ�
        self.right_playconsole_widget.setLayout(self.right_playconsole_layout)

        self.console_button_1 = QtWidgets.QPushButton(qtawesome.icon('fa.backward', color='#3FC89C'), "")
        self.console_button_1.clicked.connect(self.last)
        self.console_button_1.setStyleSheet(
            '''QPushButton{background:#172940;border-radius:5px;}QPushButton:hover{background:#3684C8;}''')

        self.console_button_2 = QtWidgets.QPushButton(qtawesome.icon('fa.forward', color='#3FC89C'), "")
        self.console_button_2.clicked.connect(self.nextion)
        self.console_button_2.setStyleSheet(
            '''QPushButton{background:#172940;border-radius:5px;}QPushButton:hover{background:#3684C8;}''')

        self.console_button_3 = QtWidgets.QPushButton(qtawesome.icon('fa.pause', color='#3FC89C', font=18), "")
        self.console_button_3.clicked.connect(self.pause)
        self.console_button_3.setStyleSheet(
            '''QPushButton{background:#172940;border-radius:5px;}QPushButton:hover{background:#3684C8;}''')

        self.console_button_4 = QtWidgets.QPushButton(qtawesome.icon('fa.volume-down', color='#3FC89C', font=18), "")
        self.console_button_4.clicked.connect(self.voicedown)
        self.console_button_4.setStyleSheet(
            '''QPushButton{background:#172940;border-radius:5px;}QPushButton:hover{background:#3684C8;}''')

        self.console_button_5 = QtWidgets.QPushButton(qtawesome.icon('fa.volume-up', color='#3FC89C', font=18), "")
        self.console_button_5.clicked.connect(self.voiceup)
        self.console_button_5.setStyleSheet(
            '''QPushButton{background:#172940;border-radius:5px;}QPushButton:hover{background:#3684C8;}''')

        self.console_button_6 = QtWidgets.QPushButton(qtawesome.icon('fa.align-center', color='#3FC89C', font=18), "")
        self.console_button_6.clicked.connect(self.playmode)
        self.console_button_6.setStyleSheet(
            '''QPushButton{background:#172940;border-radius:5px;}QPushButton:hover{background:#3684C8;}''')

        self.console_button_3.setIconSize(QtCore.QSize(30, 30))

        self.right_playconsole_layout.addWidget(self.console_button_1, 0, 1)
        self.right_playconsole_layout.addWidget(self.console_button_2, 0, 3)
        self.right_playconsole_layout.addWidget(self.console_button_3, 0, 2)
        self.right_playconsole_layout.addWidget(self.console_button_4, 0, 0)
        self.right_playconsole_layout.addWidget(self.console_button_5, 0, 4)
        self.right_playconsole_layout.addWidget(self.console_button_6, 0, 5)
        self.right_playconsole_layout.setAlignment(QtCore.Qt.AlignCenter)  # ���ò����ڲ���������ʾ

        self.down_layout.addWidget(self.right_process_bar, 0, 0, 1, 4)  # ��0�е�0�У�ռ8��3��
        # ��0�е�0�У�ռ8��3��

        self.down_layout.addWidget(self.label7, 1, 2, 1, 1)

        #self.down_layout.addWidget(self.label1, 1, 0, 1, 2)
        self.down_layout.addWidget(self.right_playconsole_widget, 1, 0, 1, 4)
        self.right_process_bar.setStyleSheet('''
            QProgressBar::chunk {
                background-color: #F76677;
            }
        ''')

        self.right_playconsole_widget.setStyleSheet('''
            QPushButton{
                border:none;
            }
        ''')

        self.left_widget.setStyleSheet('''
             QPushButton{border:none;color:white;}
             QPushButton#left_label{
             border:none;
             border-bottom:1px solid white;
             font-size:18px;
             font-weight:700;
             font-family: "Helvetica Neue", Helvetica, Arial, sans-serif;
             }
             QPushButton#left_button:hover{border-left:4px solid red;font-weight:700;}
             QWidget#left_widget{
             background:#2B2B2B;
             border-top:1px solid white;
             border-bottom:1px solid white;
             border-left:1px solid white;
             border-top-left-radius:10px;
             border-bottom-left-radius:10px;
             }
             ''')

        self.close_widget.setStyleSheet('''
             QPushButton{border:none;color:white;}
             QPushButton#close_label{
             border:none;
             border-bottom:1px solid white;
             font-size:18px;
             font-weight:700;
             font-family: "Helvetica Neue", Helvetica, Arial, sans-serif;
             }
             QPushButton#close_button:hover{border-left:4px solid red;font-weight:700;}
             QWidget#close_widget{
             background:#232C51;
             border-top:1px solid white;
             border-bottom:1px solid white;
             border-left:1px solid white;
             border-top-left-radius:10px;
             border-bottom-left-radius:10px;
             border-top-right-radius:10px;
             border-bottom-right-radius:10px;
             }
             ''')
        self.right_widget.setStyleSheet('''
        QWidget#right_widget{
        color:#232C51;
        background:#191618;
        border-top:1px solid darkGray;
        border-bottom:1px solid darkGray;
        border-right:1px solid darkGray;
        border-top-right-radius:10px;
        border-bottom-right-radius:10px;
        }
        QLabel#right_lable{
        border:none;
        font-size:16px;
        font-weight:700;
        font-family: "Helvetica Neue", Helvetica, Arial, sans-serif;
        }
        ''')

        self.down_widget.setStyleSheet('''
        QWidget#down_widget{
        color:#172940;
        background:#172940;
        border-top:1px solid darkGray;
        border-bottom:1px solid darkGray;
        border-right:1px solid darkGray;
        border-top-right-radius:10px;
        border-bottom-right-radius:10px;
        border-top-left-radius:10px;
        border-bottom-left-radius:10px;
        }
        QLabel#down_lable{
        border:none;
        font-size:16px;
        font-weight:700;
        font-family: "Helvetica Neue", Helvetica, Arial, sans-serif;
        }
        ''')
        self.setWindowOpacity(0.9)  # ���ô���͸����
        self.setAttribute(QtCore.Qt.WA_TranslucentBackground)
        self.setWindowFlag(QtCore.Qt.FramelessWindowHint)  # ���ر߿�
        self.main_layout.setSpacing(0)

    # ����Ϊ���ڿ��ƴ���



    def big(self):
        global big
        print (big)
        if not big:
            self.setWindowState(Qt.WindowMaximized)
            big = True
        elif big:
            self.setWindowState(Qt.WindowNoState)
            big = False
        # print (windowState())

    def close(self):
        reply = QtWidgets.QMessageBox.question(self, u'����', u'ȷ���˳�?', QtWidgets.QMessageBox.Yes,
                                               QtWidgets.QMessageBox.No)
        if reply == QtWidgets.QMessageBox.Yes:
            close = True
            try:
                pygame.mixer.music.stop()
            except:
                pass

            sys.exit()

        else:
            pass

    def mini(self):

        self.showMinimized()

    def mousePressEvent(self, event):
        global big
        big = False
        self.setWindowState(Qt.WindowNoState)
        # if event.button()==QtWidgets.QPushButton:
        self.m_flag = True
        self.m_Position = event.globalPos() - self.pos()  # ��ȡ�����Դ��ڵ�λ��
        event.accept()


    def mouseMoveEvent(self, QMouseEvent):
        global big
        big = False
        self.setWindowState(Qt.WindowNoState)
        # if QtWidgets.QPushButton and self.m_flag:
        self.move(QMouseEvent.globalPos() - self.m_Position)  # ���Ĵ���λ��
        QMouseEvent.accept()

    def mouseReleaseEvent(self, QMouseEvent):
        global big
        big = False
        self.setWindowState(Qt.WindowNoState)
        self.m_flag = False

    def closeEvent(self, event):
        reply = QtWidgets.QMessageBox.question(self, u'����', u'�Ƿ��˳�?', QtWidgets.QMessageBox.Yes,
                                               QtWidgets.QMessageBox.No)
        if reply == QtWidgets.QMessageBox.Yes:
            sys.exit()


        else:
            event.ignore()

    # ����Ϊ���ܴ���

    def dis(self):
        pass

    def photo(self,num):
        try:
            audio = File(SongPath[num])
            mArtwork = audio.tags['APIC:'].data
            with open('ls.png', 'wb') as img:
                img.write(mArtwork)
            try:
                lsfile = './ls.png'
                safile = './1.png'
                draw(lsfile,safile)

                pix_img = QtGui.QPixmap('./1.png')
                pix = pix_img.scaled(300, 300, QtCore.Qt.KeepAspectRatio)
                self.label5.setPixmap(pix)
            except:
                print ('do error')
                pix_img = QtGui.QPixmap('./ls.png')
                pix = pix_img.scaled(300, 300, QtCore.Qt.KeepAspectRatio)
                self.label5.setPixmap(pix)
        except:
            print('no picture')
            if  os.path.exists("2.png"):
                pix_img = QtGui.QPixmap('./2.png')
                pix = pix_img.scaled(300, 300, QtCore.Qt.KeepAspectRatio)
                self.label5.setPixmap(pix)
            else:
                try:
                    req = requests.get('https://gimg2.baidu.com/image_search/src=http%3A%2F%2Fy.gtimg.cn%2Fmusic%2Fphoto_new%2FT001R300x300M000002ztBMe06cOx0.jpg%3Fmax_age%3D2592000&refer=http%3A%2F%2Fy.gtimg.cn&app=2002&size=f9999,10000&q=a80&n=0&g=0n&fmt=jpeg?sec=1625464213&t=a30c07bda8c2ab7d8001a59353e936e0')

                    checkfile  = open('ls2.png','w+b')
                    for i in req.iter_content(100000):
                        checkfile.write(i)

                    checkfile.close()
                    lsfile = './ls2.png'
                    safile = './2.png'
                    draw(lsfile,safile)
                except:
                    print ('download error')
                    pix_img = QtGui.QPixmap('./2.png')
                    pix = pix_img.scaled(300, 300, QtCore.Qt.KeepAspectRatio)
                    self.label5.setPixmap(pix)
                    pass
                pass


    def bofang(self, num):
        try:
            global pause
            self.photo(num)
            self.console_button_3.setIcon(qtawesome.icon('fa.pause', color='#F76677', font=18))
            pause = False
            # QMessageBox.information(self, "ListWidget", "��ѡ����: "+item.text())# ��ʾ����Ϣ��ʾ��
            fill = SongPath[num]
            print(fill)
            try:
                pygame.mixer.stop()
            except:
                pass
            pygame.mixer.init()
            try:
                self.Timer = QTimer()
                self.Timer.start(500)
            except:
                pass
            pygame.mixer.music.load(SongPath[num])  # ��������
            pygame.mixer.music.play()  # ��������


        except:
            time.sleep(0.1)
            print ('system error')
            self.next()
            pass

    def playmode(self):
        global play
        try:
            if play == 'shun':
                play = 'shui'
                print('�������')
                self.label2.setText("��ǰΪ�������")
                try:
                    self.console_button_6.setIcon(qtawesome.icon('fa.random', color='#3FC89C', font=18))
                    print('done')
                except:
                    print('none')
                    pass

                # self.left_shui.setText('�л�Ϊ����ѭ��')
            elif play == 'shui':
                play = 'always'
                print('����ѭ��')
                self.label2.setText("��ǰΪ����ѭ��")
                try:
                    self.console_button_6.setIcon(qtawesome.icon('fa.retweet', color='#3FC89C', font=18))
                    print('done')
                except:
                    print('none')


                # self.left_shui.setText('�л�Ϊ˳�򲥷�')
            elif play == 'always':
                play = 'shun'
                print('˳�򲥷�')
                self.label2.setText("��ǰΪ˳�򲥷�")
                try:
                    self.console_button_6.setIcon(qtawesome.icon('fa.align-center', color='#3FC89C', font=18))
                    print('done')
                except:
                    print('none')

                # self.left_shui.setText('�л�Ϊ�������')
        except:
            print('error')
            pass

    def action(self):
        a = 1
        global num
        while a < 2:
            # print ('checking')
            try:
                time.sleep(1)
                if not pygame.mixer.music.get_busy() and pause == False:
                    if play == 'shun':
                        print('shuning')
                        self.next()
                    elif play == 'shui':
                        print('shuiing')
                        self.shui()
                    elif play == 'always':
                        print('alwaysing')
                        self.always()

            except:
                print('no')
                pass
        else:
            pygame.mixer.music.stop()

    def nextion(self):

            try:
                    if play == 'shun':
                        print('shuning')
                        self.next()
                    elif play == 'shui':
                        print('shuiing')
                        self.shui()
                    elif play == 'always':
                        print('alwaysing')
                        self.next()

            except:
                print('no')
                pass
    def add(self):
        try:

            global SongPath
            global num
            global filew
            global asas
            num = 0
            fileN = QtWidgets.QFileDialog.getExistingDirectory(None, "ѡȡ�ļ���", "")
            self.listwidget.clear()
            filew = fileN + '/'
            asas = filew
            l1 = [name for name in os.listdir(fileN) if name.endswith('.mp3')]
            l2 = [name for name in os.listdir(fileN) if name.endswith('.flac')]
            l3 = [name for name in os.listdir(fileN) if name.endswith('wma')]
            SongName = l1 + l2 + l3
            SongPath = [filew + i for i in SongName]
            print(SongPath)
            # self.Timer.timeout.connect(self.timercontorl)#ʱ�亯����������Ľ�������ʱ����ʾ�й�
            # self.label = os.path.splitext(SongName[num])#�ָ��ļ�������չ��
            # self.label.setText(wenjianming)#���ñ�ǩ���ı�Ϊ���ֵ�����
            print(SongPath[num])
            r = 0
            for i in SongName:
                # self.listwidget.addItem(i)#���ļ�����ӵ�listWidget

                self.listwidget.addItem(i)
                self.listwidget.item(r).setForeground(QtCore.Qt.white)
                r = r + 1
            # self.next(self)
        except:
            filew = asas

    def start(self):
        try:
            global SongPath
            global num
            global filew
            global asas
            if not os.path.exists("2.png"):
                try:
                    req = requests.get('https://gimg2.baidu.com/image_search/src=http%3A%2F%2Fy.gtimg.cn%2Fmusic%2Fphoto_new%2FT001R300x300M000002ztBMe06cOx0.jpg%3Fmax_age%3D2592000&refer=http%3A%2F%2Fy.gtimg.cn&app=2002&size=f9999,10000&q=a80&n=0&g=0n&fmt=jpeg?sec=1625464213&t=a30c07bda8c2ab7d8001a59353e936e0')

                    checkfile  = open('ls2.png','w+b')
                    for i in req.iter_content(100000):
                        checkfile.write(i)

                    checkfile.close()
                    lsfile = './ls2.png'
                    safile = './2.png'
                    draw(lsfile,safile)
                except:
                    print ('download error')
                    pass
            fileN = QtWidgets.QFileDialog.getExistingDirectory(None, "ѡȡ�ļ���", "")

            filew = fileN + '/'
            asas = filew
            l1 = [name for name in os.listdir(fileN) if name.endswith('.mp3')]
            l2 = [name for name in os.listdir(fileN) if name.endswith('.flac')]
            l3 = [name for name in os.listdir(fileN) if name.endswith('wma')]
            SongName = l1 + l2 + l3
            SongPath = [filew + i for i in SongName]
            print(SongPath)
            pygame.mixer.init()
            self.Timer = QTimer()
            self.Timer.start(500)
            # self.Timer.timeout.connect(self.timercontorl)#ʱ�亯����������Ľ�������ʱ����ʾ�й�
            # self.label = os.path.splitext(SongName[num])#�ָ��ļ�������չ��
            # self.label.setText(wenjianming)#���ñ�ǩ���ı�Ϊ���ֵ�����
            print(SongPath[num])
            self.photo(num)
            a, f = os.path.split(SongPath[num])  # �ָ��ļ���
            f, ex = os.path.splitext(f)
            # self.label.setText(wenjianming)#���ñ�ǩ���ı�Ϊ���ֵ�����
            self.label.setText(f)
            pygame.mixer.music.load(SongPath[num])  # ��������
            pygame.mixer.music.play()  # ��������2
            self.label3.setText(str(pygame.mixer.music.get_volume()))
            r = 0
            for i in SongName:
                # self.listwidget.addItem(i)#���ļ�����ӵ�listWidget

                self.listwidget.addItem(i)
                self.listwidget.item(r).setForeground(QtCore.Qt.white)
                r = r + 1
            # self.next(self)
        except:
            return

    def change_func(self, listwidget):
        global num
        item = QListWidgetItem(self.listwidget.currentItem())
        print(item.text())
        # print (item.flags())
        num = int(listwidget.currentRow())
        a, f = os.path.split(SongPath[num])  # �ָ��ļ���
        f, ex = os.path.splitext(f)
        # self.label.setText(wenjianming)#���ñ�ǩ���ı�Ϊ���ֵ�����
        self.label.setText(f)
        print(listwidget.currentRow())
        self.bofang(num)

    def pause(self):
        global pause
        if pause:
            try:
                pygame.mixer.music.unpause()
            except:
                pass
            self.console_button_3.setIcon(qtawesome.icon('fa.pause', color='#3FC89C', font=18))
            pause = False
        else:
            try:
                pygame.mixer.music.pause()
            except:
                pass
            self.console_button_3.setIcon(qtawesome.icon('fa.play', color='#F76677', font=18))
            pause = True




    def voiceup(self):
        print('up')
        global voice
        voice += 0.1
        if voice > 1:
            voice = 1
        pygame.mixer.music.set_volume(voice)
        self.label3.setText(str(pygame.mixer.music.get_volume()))

    def voicedown(self):
        print('down')
        global voice
        voice -= 0.1
        if voice < 0:
            voice = 0
        pygame.mixer.music.set_volume(voice)
        self.label3.setText(str(pygame.mixer.music.get_volume()))

    def shui(self):
        global num
        global SongPath
        q = int(len(SongPath) - 1)
        num = int(random.randint(1, q))
        try:
            print('shui')
            pygame.mixer.init()
            self.Timer = QTimer()
            self.Timer.start(500)
            # self.Timer.timeout.connect(self.timercontorl)#ʱ�亯����������Ľ�������ʱ����ʾ�й�
            a, f = os.path.split(SongPath[num])  # �ָ��ļ���
            f, ex = os.path.splitext(f)
            # self.label.setText(wenjianming)#���ñ�ǩ���ı�Ϊ���ֵ�����
            self.label.setText(f)
            pygame.mixer.music.load(SongPath[num])  # ��������
            pygame.mixer.music.play()  # ��������

        except:
            pass

    def next(self):
        global num
        global SongPath
        if num == len(SongPath) - 1:
            print('��')
            num = 0
        else:
            num = num + 1
        try:
            self.photo(num)
            print('next')
            pygame.mixer.init()
            self.Timer = QTimer()
            self.Timer.start(500)
            # self.Timer.timeout.connect(self.timercontorl)#ʱ�亯����������Ľ�������ʱ����ʾ�й�
            a, f = os.path.split(SongPath[num])  # �ָ��ļ���
            f, ex = os.path.splitext(f)
            # self.label.setText(wenjianming)#���ñ�ǩ���ı�Ϊ���ֵ�����
            self.label.setText(f)
            pygame.mixer.music.load(SongPath[num])  # ��������
            pygame.mixer.music.play()  # ��������

        except:
            pass

    def always(self):
        try:
            self.photo(num)
            print('always')
            pygame.mixer.init()
            self.Timer = QTimer()
            self.Timer.start(500)
            # self.Timer.timeout.connect(self.timercontorl)#ʱ�亯����������Ľ�������ʱ����ʾ�й�
            a, f = os.path.split(SongPath[num])  # �ָ��ļ���
            f, ex = os.path.splitext(f)
            # self.label.setText(wenjianming)#���ñ�ǩ���ı�Ϊ���ֵ�����
            self.label.setText(f)
            pygame.mixer.music.load(SongPath[num])  # ��������
            pygame.mixer.music.play()  # ��������

        except:
            pass

    def last(self):
        global num
        global SongPath
        if num == 0:
            print('��')
            num = len(SongPath) - 1
        else:
            num = num - 1
        try:
            self.photo(num)
            pygame.mixer.init()
            self.Timer = QTimer()
            self.Timer.start(500)
            a, f = os.path.split(SongPath[num])  # �ָ��ļ���
            f, ex = os.path.splitext(f)
            # self.label.setText(wenjianming)#���ñ�ǩ���ı�Ϊ���ֵ�����
            self.label.setText(f)
            pygame.mixer.music.load(SongPath[num])  # ��������
            pygame.mixer.music.play()  # ��������
        except:
            pass

    def keyPressEvent(self, QKeyEvent):
        if QKeyEvent.modifiers() == Qt.ControlModifier and QKeyEvent.key() == Qt.Key_A:  # ����ĳ����������ʱ����
            print('surpise')

def crop_max_square(pil_img):
    return crop_center(pil_img, min(pil_img.size), min(pil_img.size))


def crop_center(pil_img, crop_width, crop_height):
    img_width, img_height = pil_img.size
    return pil_img.crop(((img_width - crop_width) // 2,
                         (img_height - crop_height) // 2,
                         (img_width + crop_width) // 2,
                         (img_height + crop_height) // 2))

def mask_circle_transparent(pil_img, blur_radius, offset=0):
    offset = blur_radius * 2 + offset
    mask = Image.new("L", pil_img.size, 0)
    draw = ImageDraw.Draw(mask)
    draw.ellipse((offset, offset, pil_img.size[0] - offset, pil_img.size[1] - offset), fill=255)
    mask = mask.filter(ImageFilter.GaussianBlur(blur_radius))

    result = pil_img.copy()
    result.putalpha(mask)
    return result

def draw(lsfile,safile):
    markImg = Image.open(lsfile)
    thumb_width = 600

    im_square = crop_max_square(markImg).resize((thumb_width, thumb_width), Image.LANCZOS)
    im_thumb = mask_circle_transparent(im_square, 0)
    im_thumb.save(safile)
    os.remove(lsfile)

def main():
    app = QtWidgets.QApplication(sys.argv)
    gui = MainUi()
    gui.show()
    sys.exit(app.exec_())


if __name__ == '__main__':
    main()

#������������������������2021/6/1,��ͯ�ڿ���Ѽ[]~(������)~*
